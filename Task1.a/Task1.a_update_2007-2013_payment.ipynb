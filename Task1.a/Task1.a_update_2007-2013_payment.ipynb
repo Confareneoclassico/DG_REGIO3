{
 "cells": [
  {
   "cell_type": "markdown",
   "id": "1832dd70-6393-4294-9417-a177adce0ef6",
   "metadata": {},
   "source": [
    "The Python packages are firstly imported"
   ]
  },
  {
   "cell_type": "code",
   "execution_count": 36,
   "id": "40154f5a-3df1-47e4-bc39-604fec2eb2d4",
   "metadata": {},
   "outputs": [],
   "source": [
    "import numpy as np\n",
    "import pandas as pd"
   ]
  },
  {
   "cell_type": "markdown",
   "id": "0671f0ee-5aa7-46bb-aa47-aa0db35476d1",
   "metadata": {},
   "source": [
    "The files to use are imported and the formatting is adjusted by excluding irrelevant rows."
   ]
  },
  {
   "cell_type": "code",
   "execution_count": 38,
   "id": "2a7b5fd5-4093-42f8-a2b2-6e77ff9171f4",
   "metadata": {},
   "outputs": [],
   "source": [
    "df2017 = pd.read_excel('20200211 EU_2007_2013_Payment_COHESION FINAL (2).xls',\n",
    "                      sheet_name='Cumulative Net Pay and Closure ',\n",
    "                      header=3)\n",
    "\n",
    "df2016 = pd.read_excel('20200211 EU_2007_2013_Payment_COHESION FINAL (2).xls',\n",
    "                      sheet_name='Cumulative Net Pay and Closure ',\n",
    "                      header=3)\n",
    "\n",
    "files = ['./OD_07_13_EU_payments_31122018.xlsx',\n",
    "        './OD_07_13_EU_payments 31-12-2019.xlsx',\n",
    "        './OD_07_13_EU_payments 31-12-2020.xlsx',\n",
    "        './OD_07_13_EU_payments 31-12-2021.xlsx',\n",
    "        './OD_07_13_EU_payments 14 -07- 2023.csv']"
   ]
  },
  {
   "cell_type": "markdown",
   "id": "dfe05637-a06e-4eb8-b6b1-e925eaf1f6c3",
   "metadata": {},
   "source": [
    "The file related to the agricultural funds is also imported. Nomenclature is adjusted to ensure consistency with the other files."
   ]
  },
  {
   "cell_type": "code",
   "execution_count": 39,
   "id": "732406bb-18b4-4d88-8af9-fd9cf26cb793",
   "metadata": {},
   "outputs": [],
   "source": [
    "df_EAFRD = pd.read_excel('./20200123 EAFRD get_all_payments.xlsx', \n",
    "                         sheet_name='CCI by year',\n",
    "                        header=2)\n",
    "\n",
    "df_EAFRD = df_EAFRD.rename(columns={'Budget \\nYear':'Year', 'Sum of Paid ':'Net payments'})\n",
    "df_EAFRD['Fund'] = 'EAFRD'\n",
    "df_EAFRD = df_EAFRD.loc[(df_EAFRD.Year>2015)&(df_EAFRD.Year<2020)].reset_index(drop=True)"
   ]
  },
  {
   "cell_type": "markdown",
   "id": "eaafd530-25e2-4995-a1ce-f9071504bc6a",
   "metadata": {},
   "source": [
    "Finally, the most updated version of the data file used for the payments regionalisation in stata is also imported."
   ]
  },
  {
   "cell_type": "code",
   "execution_count": 40,
   "id": "1a3378fd-fbae-4f89-b963-a3bf1c0c63d3",
   "metadata": {},
   "outputs": [],
   "source": [
    "previous_df = pd.read_excel('./Stata2Python/Datafiles/Base_data/170801 Old_data_detailed_CLEAN.xlsx')"
   ]
  },
  {
   "cell_type": "markdown",
   "id": "fb3508dc-c05e-456a-b818-96e377c8eedf",
   "metadata": {},
   "source": [
    "The column names in the data files are harmonised. The year they refer to is added as an extra column."
   ]
  },
  {
   "cell_type": "code",
   "execution_count": 44,
   "id": "e1b8af9e-6359-4628-8e86-7f87f414304d",
   "metadata": {},
   "outputs": [],
   "source": [
    "df2017['2017'] = df2017['Cumulative Net Payment in 2017']\n",
    "\n",
    "df2017_reduced = df2017[['CCI','Category','Fund','2017']]\n",
    "\n",
    "df2017_reduced = df2017_reduced.rename(columns={'Category':'Objective',\n",
    "                                               '2017':'Total net payments'})\n",
    "\n",
    "df2017_reduced['Year'] = 2017\n",
    "\n",
    "df2016['2016'] = df2016['Cumulative Net Payment in 2016']\n",
    "\n",
    "df2016_reduced = df2016[['CCI','Category','Fund','2016']]\n",
    "\n",
    "df2016_reduced = df2016_reduced.rename(columns={'Category':'Objective',\n",
    "                                               '2016':'Total net payments'})\n",
    "\n",
    "df2016_reduced['Year'] = 2016\n",
    "\n",
    "df2017_reduced = pd.concat([df2016_reduced, df2017_reduced])\n",
    "\n",
    "df_list = [df2017_reduced]\n",
    "\n",
    "Years = list(range(2018,2023))\n",
    "\n",
    "for ifi,f in enumerate(files):\n",
    "    print(f)\n",
    "    print(Years[ifi])\n",
    "    try:\n",
    "        df = pd.read_excel(f,\n",
    "                           sheet_name='details')\n",
    "    except ValueError:\n",
    "        df = pd.read_csv(f)\n",
    "        \n",
    "    df['Year'] = Years[ifi]\n",
    "    \n",
    "    try:\n",
    "        df['Total net payments'] = df['Total net payments'].str.replace(',', '').astype(float)\n",
    "    except AttributeError:\n",
    "        pass\n",
    "    \n",
    "    # print(len(df))\n",
    "        \n",
    "    df_list.append(df)\n",
    "\n",
    "# df_list.append(df_EAFRD)\n",
    "               \n",
    "df_1722 = pd.concat(df_list)\n",
    "\n",
    "df_1722 = df_1722[['Year','CCI','Title','Fund','Objective','Total net payments']]"
   ]
  },
  {
   "cell_type": "markdown",
   "id": "12042d66-35c6-4173-8f0c-e2ebce2257d7",
   "metadata": {},
   "source": [
    "Net yearly figures for the payments are obtained by subtraction from the yearly cumulative figures. Negative payments are capped to zero."
   ]
  },
  {
   "cell_type": "code",
   "execution_count": 47,
   "id": "1cab4490-8c56-41ad-9c02-9f65d8d43238",
   "metadata": {},
   "outputs": [],
   "source": [
    "df_1722 = df_1722.set_index(['CCI','Objective','Fund']).sort_values(by='Year').sort_index()\n",
    "\n",
    "df_1722['Net payments'] = df_1722.groupby(df_1722.index)['Total net payments'].diff().fillna(df_1722['Total net payments'])\n",
    "\n",
    "df_1722.loc[(df_1722['Net payments']<0),'Net payments'] = 0\n",
    "\n",
    "df_1722 = df_1722.loc[df_1722.Year>2016].drop('Total net payments',axis=1).reset_index()"
   ]
  },
  {
   "cell_type": "markdown",
   "id": "ddeebe50-b5af-44f2-9025-d26a93b5c798",
   "metadata": {},
   "source": [
    "The agricultural fund is eventually harmonised to the standard format and concatenated to the joined data set."
   ]
  },
  {
   "cell_type": "code",
   "execution_count": 51,
   "id": "40c6e553-aa05-47e1-ac57-7358a0086eca",
   "metadata": {},
   "outputs": [],
   "source": [
    "df_1722_noagri = df_1722.drop(df_1722[(df_1722.Fund=='EAFRD')&(df_1722.Year<2020)].index)\n",
    "\n",
    "df_EAFRD = df_EAFRD.drop(columns='MS')\n",
    "\n",
    "df_1722_agr = pd.concat([df_1722_noagri,df_EAFRD])\n",
    "\n",
    "df_1722_agr = df_1722_agr.rename(columns={'Title':'CCITitle'})\n",
    "df_1722_agr['ProgrammingPeriod']='2007-2013'\n",
    "df_1722_agr['StageOfexpenditure']='Paid'"
   ]
  },
  {
   "cell_type": "markdown",
   "id": "1efc4431-8372-4e08-90cc-b55d18a8fc0c",
   "metadata": {},
   "source": [
    "The data set is eventually pivoted and some funding schemes are renamed for consistency (EFF, and EAFRD)."
   ]
  },
  {
   "cell_type": "code",
   "execution_count": 52,
   "id": "b6c9813b-ad66-415a-b9b8-dc5e0ca6e854",
   "metadata": {},
   "outputs": [],
   "source": [
    "df_1722_pivoted = pd.pivot_table(df_1722_agr, \n",
    "               values='Net payments', \n",
    "               index=['Year', 'CCI','ProgrammingPeriod','StageOfexpenditure'],\n",
    "                columns=['Fund'], \n",
    "               aggfunc=\"sum\",\n",
    "              fill_value=0).reset_index()"
   ]
  },
  {
   "cell_type": "code",
   "execution_count": 53,
   "id": "bd65a7ab-75a0-4da9-87e3-64ee2db9dd6c",
   "metadata": {},
   "outputs": [],
   "source": [
    "df_1722_pivoted = df_1722_pivoted.rename(columns={'EFF':'FIFG', 'EAFRD':'EAGGF'})"
   ]
  },
  {
   "cell_type": "markdown",
   "id": "8abd12f1-b535-430e-abc4-73274f1b3638",
   "metadata": {},
   "source": [
    "The data set is concatenated to the updated figures for 2007-2013 coming from the previous contract."
   ]
  },
  {
   "cell_type": "code",
   "execution_count": 57,
   "id": "2cb5b7cd-caa0-4356-a210-11de37191a3c",
   "metadata": {},
   "outputs": [],
   "source": [
    "previous_df_0713 = previous_df.loc[previous_df.ProgrammingPeriod=='2007-2013']\n",
    "\n",
    "mapping_dict = previous_df_0713.set_index('CCI')['NUTS2Code'].to_dict()\n",
    "\n",
    "df_1722_pivoted['NUTS2Code'] = df_1722_pivoted['CCI'].map(mapping_dict)\n",
    "\n",
    "df_final = pd.concat([previous_df,\n",
    "                     df_1722_pivoted])"
   ]
  },
  {
   "cell_type": "markdown",
   "id": "e7bda8e5-2c26-48f5-9131-1b4574dd3d28",
   "metadata": {},
   "source": [
    "Missing data are replaced with zeroes and the final columns are selected."
   ]
  },
  {
   "cell_type": "code",
   "execution_count": null,
   "id": "0ea949a1-0ce2-4dac-852f-38911da11fc2",
   "metadata": {},
   "outputs": [],
   "source": [
    "df_final.loc[df_final['EAGGF'].apply(lambda x: isinstance(x, str)),'EAGGF'] = 0\n",
    "df_final[['CF','ESF','ERDF','FIFG','EAGGF']] = df_final[['CF','ESF','ERDF','FIFG','EAGGF']].fillna(0)\n",
    "\n",
    "df_final = df_final[[              'Year',  'ProgrammingPeriod',                'CCI',\n",
    "                 'CCITitle',          'Objective',          'NUTS1Code',\n",
    "         'NUTS1Description',          'NUTS2Code',   'NUTS2Description',\n",
    "       'StageOfexpenditure',              'AllSF',                 'CF',\n",
    "                    'EAGGF',               'ENPI',               'ERDF',\n",
    "                      'ESF',               'FIFG',                'IPA',\n",
    "                     'ISPA',            'Country']]\n",
    "\n",
    "df_final = df_final.loc[~df_final.CCI.astype(str).str.isdigit()]\n",
    "df_final[['CCITitle','NUTS1Code','NUTS1Description','NUTS2Code','NUTS2Description','Country']] = \\\n",
    "                    df_final[['CCITitle',\n",
    "                              'NUTS1Code',\n",
    "                              'NUTS1Description',\n",
    "                             'NUTS2Code',\n",
    "                             'NUTS2Description',\n",
    "                             'Country']].astype(str)\n",
    "df_final['CCITitle'] = df_final['CCITitle'].fillna('Data not Available')\n",
    "\n",
    "df_final.loc[df_final.Country.isin(['0','nan']),'Country']=df_final.loc[df_final.Country.isin(['0','nan'])]['CCI'].str[4:6]"
   ]
  },
  {
   "cell_type": "markdown",
   "id": "5bb023e8-ce17-4c43-89b3-f577f85eb6fa",
   "metadata": {},
   "source": [
    "Differences for the yearly updated data for the agricultural funds and the data available from the previous contract are attributed to the year 2015, for which figures were not completed."
   ]
  },
  {
   "cell_type": "code",
   "execution_count": 63,
   "id": "9e1935d3-6d15-4f49-b9dc-6f6dc841a4ad",
   "metadata": {},
   "outputs": [],
   "source": [
    "agri_extra_2015 = df_1722.loc[(df_1722.Fund=='EAFRD')&(df_1722.Year==2019)].groupby(['CCI'])['Net payments'].sum()\n",
    "agri_extra_diff = (agri_extra_2015-df_final.loc[df_final.ProgrammingPeriod=='2007-2013'].groupby('CCI')['EAGGF'].sum()).dropna()\n",
    "\n",
    "agri_extra = agri_extra_diff/df_final.loc[(df_final.ProgrammingPeriod=='2007-2013')&(df_final.Year==2015)&(df_final.CCI.isin(agri_extra_2015.index))].groupby('CCI').size()\n",
    "\n",
    "df_final.loc[(df_final.ProgrammingPeriod=='2007-2013')&(df_final.Year==2015),'EAGGF']+=df_final.loc[(df_final.ProgrammingPeriod=='2007-2013')&(df_final.Year==2015),'CCI'].map(agri_extra)"
   ]
  },
  {
   "cell_type": "markdown",
   "id": "fedbd0e3-4728-49cd-8d99-a41a1c1605c4",
   "metadata": {},
   "source": [
    "A column for the cumulative payments across funding schemes is introduced. The title of the CCI identifier of the programme is capped to 32 characters to avoid inconsistent treatment between stata and python."
   ]
  },
  {
   "cell_type": "code",
   "execution_count": 81,
   "id": "29d167fe-6790-4ced-bd15-24c4cbfd0d60",
   "metadata": {},
   "outputs": [],
   "source": [
    "df_final['AllSF'] = df_final[['CF','ESF','ERDF','FIFG','EAGGF','IPA','ISPA','ENPI']].sum(axis=1)\n",
    "\n",
    "df_final[['AllSF','CF','ESF','ERDF','FIFG','EAGGF','IPA','ISPA','ENPI']] = df_final[['AllSF','CF','ESF','ERDF','FIFG','EAGGF','IPA','ISPA','ENPI']].fillna(0)\n",
    "\n",
    "df_final['CCITitle'] = df_final['CCITitle'].str.slice(0, 32)\n",
    "df_final['CCITitle']= df_final['CCITitle'].str.replace('[^a-zA-Z0-9 ]', '', regex=True)"
   ]
  },
  {
   "cell_type": "markdown",
   "id": "e59c3bb1-dc10-44ac-a833-195e4300235f",
   "metadata": {},
   "source": [
    "The output data is eventually exported to be used in the regionalisation algorithm."
   ]
  },
  {
   "cell_type": "code",
   "execution_count": 277,
   "id": "ef935a0c-5882-4412-8b5e-e87b35efce83",
   "metadata": {},
   "outputs": [],
   "source": [
    "df_final.to_excel('./Output/240201_Old_data_detailed_CLEAN.xlsx', index = False)\n",
    "\n",
    "df_final.to_stata('./Output/Old_data_detailed_CLEAN.dta', version = 118, write_index = False)\n",
    "\n",
    "df_final2015 = df_final.loc[df_final.Year>=2015].drop('Objective',axis=1)\n",
    "\n",
    "df_final2015.to_excel('./Output/Update_15_22.xlsx', index = False)\n",
    "\n",
    "df_final2015.to_stata('./Output/Update_15_22.dta', version = 118)"
   ]
  }
 ],
 "metadata": {
  "kernelspec": {
   "display_name": "Python 3 (ipykernel)",
   "language": "python",
   "name": "python3"
  },
  "language_info": {
   "codemirror_mode": {
    "name": "ipython",
    "version": 3
   },
   "file_extension": ".py",
   "mimetype": "text/x-python",
   "name": "python",
   "nbconvert_exporter": "python",
   "pygments_lexer": "ipython3",
   "version": "3.7.15"
  }
 },
 "nbformat": 4,
 "nbformat_minor": 5
}

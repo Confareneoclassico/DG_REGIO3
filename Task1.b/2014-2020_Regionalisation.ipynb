{
 "cells": [
  {
   "cell_type": "markdown",
   "metadata": {},
   "source": [
    "# Task1.b - Regionalisation of the 2014-2020 payments dataset\n",
    "\n",
    "The relevant libraries are imported."
   ]
  },
  {
   "cell_type": "code",
   "execution_count": 2,
   "metadata": {},
   "outputs": [],
   "source": [
    "import datetime\n",
    "import matplotlib.pyplot as plt\n",
    "import numpy as np\n",
    "import pandas as pd"
   ]
  },
  {
   "cell_type": "markdown",
   "metadata": {},
   "source": [
    "#### Import all the relevant data files\n",
    "\n",
    "df_annual_ contains all the yearly payments to be regionalised, updated on a daily basis (last update: 7 January);\\\n",
    "df_mapping_ is the look-up table for the attribution of the payments at different granularity through the correspondence between the payment; \n",
    "df_CCI-code_ and the _NUTS_ area;\\\n",
    "df_population_ includes the population figures at the _NUTS2_ granularity level;\\\n",
    "df_wealth_ maps the _NUTS2_ regions onto the development categories _More developed, Transitional, Less developed_ or the geographical category _Outermost or Northern Sparsely Populated_."
   ]
  },
  {
   "cell_type": "code",
   "execution_count": 3,
   "metadata": {},
   "outputs": [
    {
     "name": "stderr",
     "output_type": "stream",
     "text": [
      "/opt/anaconda3/envs/base2/lib/python3.7/site-packages/openpyxl/styles/stylesheet.py:226: UserWarning: Workbook contains no default style, apply openpyxl's default\n",
      "  warn(\"Workbook contains no default style, apply openpyxl's default\")\n"
     ]
    }
   ],
   "source": [
    "df_annual = pd.read_csv('ESIF_2014-2020_EU_payments__daily_update__20240107.csv')\n",
    "df_mapping = pd.read_csv('ESIF_2014-2020_-_LOOKUP_TABLE_-_ERDF_ESF_CF_Programme_Coverage_VS_NUTS_V2010.csv').dropna()\n",
    "df_mapping_EAFRD = pd.read_excel('NUTS EAFRD plus.xlsx',sheet_name='ESIF_2014-2020_-_LOOKUP_EAFRD').dropna()\n",
    "df_mapping_EAFRD.loc[df_mapping_EAFRD['NUTS_(2010)_code']=='DED ','NUTS_(2010)_code']='DED'\n",
    "df_population = pd.read_excel('2023.10.03_Population_1January.xlsx',sheet_name='Sheet 1',header=10).iloc[:,::2]\n",
    "df_wealth = pd.read_excel('NUTS2list_with_objectives.xls',sheet_name='MASTER NUTS-2 LIST 2007-2020',header=0,\n",
    "                         usecols=[0,1,2,3,5,8])\n",
    "df_mapping = pd.concat([df_mapping,df_mapping_EAFRD])\n",
    "df_annual.loc[df_annual.CCI=='2014SE16RFOP007','Category of region'] = 'More developed'\n",
    "df_annual.loc[df_annual.CCI=='2014SE16RFOP008','Category of region'] = 'More developed'\n",
    "df_annual.loc[df_annual['Category of region']=='REACT-EU', 'Category of region'] = 'void'\n",
    "\n",
    "df_population.replace(':', pd.NaT, inplace=True)\n",
    "\n",
    "df_population.fillna(method='ffill', axis=1, inplace=True)\n",
    "\n",
    "df_population = df_population.iloc[:-8]"
   ]
  },
  {
   "cell_type": "markdown",
   "metadata": {},
   "source": [
    "#### Harmonising the NUTS codes across datasets\n",
    "\n",
    "The blocks of code presented below are aimed at harmonising the _NUTS_ nomenclatures across datasets. The standard is the _NUTS-2010_ scheme. The population figures are presented according to the _NUTS-2016_ nomenclature. This requires a double mapping of this latter onto the corresponding _NUTS-2013_ scheme, which is in turn mapped onto the _NUTS-2010_. The development categories are listed as per the _NUTS-2006_ format, which needs to be updated to _NUTS-2010_."
   ]
  },
  {
   "cell_type": "code",
   "execution_count": 4,
   "metadata": {},
   "outputs": [],
   "source": [
    "df_wealth.loc[df_wealth.MS=='GR','MS']='EL'\n",
    "df_wealth.loc[df_wealth['NUTS-2'].str[:2]=='GR','NUTS-2']='EL'+df_wealth['NUTS-2'].str[2:]\n",
    "df_wealth.loc[df_wealth['NUTS-2'].str[:3]=='ITD','NUTS-2']='ITH'+df_wealth['NUTS-2'].str[3:]\n",
    "df_wealth.loc[df_wealth['NUTS-2'].str[:3]=='ITE','NUTS-2']='ITI'+df_wealth['NUTS-2'].str[3:]\n",
    "df_wealth.loc[(df_wealth['NUTS-2']=='FI13')|(df_wealth['NUTS-2']=='FI1A'),'NUTS-2']='FI1D'\n",
    "df_wealth.loc[(df_wealth['NUTS-2']=='DE41')|(df_wealth['NUTS-2']=='DE42'),'NUTS-2']='DE40'\n",
    "df_wealth.loc[df_wealth['NUTS-2']=='DED1','NUTS-2']='DED4'\n",
    "df_wealth.loc[df_wealth['NUTS-2']=='DED3','NUTS-2']='DED5'\n",
    "df_wealth.loc[df_wealth['NUTS-2']=='FI18','NUTS-2']='FI1B'\n",
    "df_wealth.loc[df_wealth['NUTS-2']=='UKD2','NUTS-2']='UKD6'\n",
    "df_wealth.loc[df_wealth['NUTS-2']=='UKD5','NUTS-2']='UKD7'"
   ]
  },
  {
   "cell_type": "code",
   "execution_count": 5,
   "metadata": {},
   "outputs": [],
   "source": [
    "df_population.columns = ['NUTS2',2014,2015,2016,2017,2018,2019,2020,2021,2022]\n",
    "df_population=df_population[df_population[2022]!=':']"
   ]
  },
  {
   "cell_type": "code",
   "execution_count": 6,
   "metadata": {},
   "outputs": [],
   "source": [
    "df_population.loc[(df_population.NUTS2=='UKI5')|(df_population.NUTS2=='UKI6')|(df_population.NUTS2=='UKI7'),'NUTS2']='UKI2'\n",
    "df_population.loc[(df_population.NUTS2=='UKI3')|(df_population.NUTS2=='UKI4'),'NUTS2']='UKI1'\n",
    "df_population.loc[df_population.NUTS2=='SI04','NUTS2']='SI02'\n",
    "df_population.loc[df_population.NUTS2=='SI03','NUTS2']='SI01'\n",
    "df_population.loc[(df_population.NUTS2=='FRA4')|(df_population.NUTS2=='FRA5'),'NUTS2']='FR94'\n",
    "df_population.loc[df_population.NUTS2=='FRA3','NUTS2']='FR93'\n",
    "df_population.loc[df_population.NUTS2=='FRA2','NUTS2']='FR92'\n",
    "df_population.loc[df_population.NUTS2=='FRA1','NUTS2']='FR91'\n",
    "df_population.loc[(df_population.NUTS2=='FRY4')|(df_population.NUTS2=='FRY5'),'NUTS2']='FR94'\n",
    "df_population.loc[df_population.NUTS2=='FRY3','NUTS2']='FR93'\n",
    "df_population.loc[df_population.NUTS2=='FRY2','NUTS2']='FR92'\n",
    "df_population.loc[df_population.NUTS2=='FRY1','NUTS2']='FR91'\n",
    "df_population.loc[df_population.NUTS2=='EL51','NUTS2']='EL11'\n",
    "df_population.loc[df_population.NUTS2=='EL52','NUTS2']='EL12'\n",
    "df_population.loc[df_population.NUTS2=='EL53','NUTS2']='EL13'\n",
    "df_population.loc[df_population.NUTS2=='EL54','NUTS2']='EL21'\n",
    "df_population.loc[df_population.NUTS2=='EL61','NUTS2']='EL14'\n",
    "df_population.loc[df_population.NUTS2=='EL62','NUTS2']='EL22'\n",
    "df_population.loc[df_population.NUTS2=='EL63','NUTS2']='EL23'\n",
    "df_population.loc[df_population.NUTS2=='EL64','NUTS2']='EL24'\n",
    "df_population.loc[df_population.NUTS2=='EL65','NUTS2']='EL25'\n",
    "\n",
    "# NUTS 2013 - 2016 below\n",
    "df_population.loc[df_population.NUTS2=='IE04','NUTS2']='IE01'\n",
    "df_population.loc[(df_population.NUTS2=='IE05')|(df_population.NUTS2=='IE06'),'NUTS2']='IE02'\n",
    "df_population.loc[df_population.NUTS2=='FRB0','NUTS2']='FR24'\n",
    "df_population.loc[df_population.NUTS2=='FRC1','NUTS2']='FR26'\n",
    "df_population.loc[df_population.NUTS2=='FRC2','NUTS2']='FR43'\n",
    "df_population.loc[df_population.NUTS2=='FRD1','NUTS2']='FR25'\n",
    "df_population.loc[df_population.NUTS2=='FRD2','NUTS2']='FR23'\n",
    "df_population.loc[df_population.NUTS2=='FRE1','NUTS2']='FR30'\n",
    "df_population.loc[df_population.NUTS2=='FRE2','NUTS2']='FR22'\n",
    "df_population.loc[df_population.NUTS2=='FRF1','NUTS2']='FR42'\n",
    "df_population.loc[df_population.NUTS2=='FRF2','NUTS2']='FR21'\n",
    "df_population.loc[df_population.NUTS2=='FRF3','NUTS2']='FR41'\n",
    "df_population.loc[df_population.NUTS2=='FRG0','NUTS2']='FR51'\n",
    "df_population.loc[df_population.NUTS2=='FRH0','NUTS2']='FR52'\n",
    "df_population.loc[df_population.NUTS2=='FRI1','NUTS2']='FR61'\n",
    "df_population.loc[df_population.NUTS2=='FRI2','NUTS2']='FR63'\n",
    "df_population.loc[df_population.NUTS2=='FRI3','NUTS2']='FR53'\n",
    "df_population.loc[df_population.NUTS2=='FRJ1','NUTS2']='FR81'\n",
    "df_population.loc[df_population.NUTS2=='FRJ2','NUTS2']='FR62'\n",
    "df_population.loc[df_population.NUTS2=='FRK1','NUTS2']='FR72'\n",
    "df_population.loc[df_population.NUTS2=='FRK2','NUTS2']='FR71'\n",
    "df_population.loc[df_population.NUTS2=='FRL0','NUTS2']='FR82'\n",
    "df_population.loc[df_population.NUTS2=='FRM0','NUTS2']='FR83'\n",
    "df_population.loc[(df_population.NUTS2=='LT01')|(df_population.NUTS2=='LT02'),'NUTS2']='LT00'\n",
    "df_population.loc[(df_population.NUTS2=='HU11')|(df_population.NUTS2=='HU12'),'NUTS2']='HU10'\n",
    "df_population.loc[df_population.NUTS2=='PL71','NUTS2']='PL11'\n",
    "df_population.loc[df_population.NUTS2=='PL72','NUTS2']='PL33'\n",
    "df_population.loc[df_population.NUTS2=='PL81','NUTS2']='PL31'\n",
    "df_population.loc[df_population.NUTS2=='PL82','NUTS2']='PL32'\n",
    "df_population.loc[df_population.NUTS2=='PL84','NUTS2']='PL34'\n",
    "df_population.loc[(df_population.NUTS2=='PL91')|(df_population.NUTS2=='PL92'),'NUTS2']='PL12'\n",
    "df_population.loc[(df_population.NUTS2=='UKM8')|(df_population.NUTS2=='UKM9'),'NUTS2']='UKM3'\n",
    "df_population.loc[df_population.NUTS2=='UKM7','NUTS2']='UKM2'"
   ]
  },
  {
   "cell_type": "markdown",
   "metadata": {},
   "source": [
    "NUTS1 and member-state codes are obtained by slicing the corresponding NUTS2 codes."
   ]
  },
  {
   "cell_type": "code",
   "execution_count": 7,
   "metadata": {},
   "outputs": [],
   "source": [
    "df_population['NUTS1']=df_population['NUTS2'].str[:-1]\n",
    "df_population['MS']=df_population['NUTS2'].str[:-2]\n",
    "df_population = pd.melt(df_population, id_vars=['MS','NUTS1','NUTS2'], \n",
    "                        value_vars=[2014,2015,2016,2017,2018,2019,2020,2021,2022]).rename(columns={'variable':'Year','value':'Population'}).sort_values(by=['MS','NUTS1',\n",
    "                                                                                'NUTS2']).dropna().reset_index(drop=True)"
   ]
  },
  {
   "cell_type": "code",
   "execution_count": 8,
   "metadata": {},
   "outputs": [],
   "source": [
    "df_population['Population'] = df_population['Population'].replace(to_replace='[A-Za-z]', value=0, regex=True)\n",
    "\n",
    "df_population['Population']=pd.to_numeric(df_population['Population'])\n",
    "\n",
    "df_population['Population'] = df_population.groupby(['NUTS2','Year'])['Population'].transform(sum)\n",
    "df_population=df_population.drop_duplicates(subset=['NUTS2', 'Year'])\n",
    "\n",
    "df_wealth=df_wealth[df_wealth.Period=='2014-2020'].rename(columns={'NUTS-2':'NUTS2'})\n",
    "df_wealth['NUTS1']=df_wealth['NUTS2'].str[:-1]\n",
    "\n",
    "df_wealth.loc[(df_wealth.NUTS1=='FRY')|(df_wealth.NUTS2=='PT20')|(df_wealth.NUTS2=='PT30')|\n",
    "                  (df_wealth.NUTS2=='SE07')|(df_wealth.NUTS2=='SE08'),'Category of region']=\\\n",
    "'Outermost or Northern Sparsely Populated'"
   ]
  },
  {
   "cell_type": "markdown",
   "metadata": {},
   "source": [
    "#### Mapping across datasets\n",
    "\n",
    "The development categories are mapped onto the datasets: the _NUTS2_ codes are the key for the mapping across datasets. Discrepancies due to different _NUTS_ nomenclatures are manually harmonised."
   ]
  },
  {
   "cell_type": "code",
   "execution_count": 9,
   "metadata": {},
   "outputs": [],
   "source": [
    "mapping_cat = dict(df_wealth[['NUTS2', 'Category of region']].values)\n",
    "df_population['Category of region'] = df_population['NUTS2'].map(mapping_cat)\n",
    "df_population['Population_MS'] = df_population.groupby(['MS','Year'])['Population'].transform(sum)\n",
    "df_population['Population_NUTS1'] = df_population.groupby(['NUTS1','Year'])['Population'].transform(sum)\n",
    "df_population['Population_MS_category'] = df_population.groupby(['MS','Category of region',\n",
    "                                                                 'Year'])['Population'].transform(sum)\n",
    "df_population['Population_NUTS1_category'] = df_population.groupby(['NUTS1','Category of region',\n",
    "                                                                    'Year'])['Population'].transform(sum)\n",
    "df_population['MS_share']=df_population['Population']/df_population['Population_MS']\n",
    "df_population['NUTS1_share']=df_population['Population']/df_population['Population_NUTS1']\n",
    "df_population['MS_share_category']=df_population['Population']/df_population['Population_MS_category']\n",
    "df_population['NUTS1_share_category']=df_population['Population']/df_population['Population_NUTS1_category']\n",
    "df_population.loc[df_population.NUTS2=='FI1C','Category of region']='More developed'\n",
    "df_population.loc[df_population.NUTS2.isin(['FRXX','HUXX']),'Category of region']='Less developed'\n",
    "df_population.loc[df_population.NUTS1=='FR9','Category of region']=\\\n",
    "'Outermost or Northern Sparsely Populated'"
   ]
  },
  {
   "cell_type": "code",
   "execution_count": 10,
   "metadata": {},
   "outputs": [
    {
     "name": "stderr",
     "output_type": "stream",
     "text": [
      "/opt/anaconda3/envs/base2/lib/python3.7/site-packages/ipykernel_launcher.py:6: SettingWithCopyWarning: \n",
      "A value is trying to be set on a copy of a slice from a DataFrame.\n",
      "Try using .loc[row_indexer,col_indexer] = value instead\n",
      "\n",
      "See the caveats in the documentation: https://pandas.pydata.org/pandas-docs/stable/user_guide/indexing.html#returning-a-view-versus-a-copy\n",
      "  \n",
      "/opt/anaconda3/envs/base2/lib/python3.7/site-packages/ipykernel_launcher.py:10: SettingWithCopyWarning: \n",
      "A value is trying to be set on a copy of a slice from a DataFrame.\n",
      "Try using .loc[row_indexer,col_indexer] = value instead\n",
      "\n",
      "See the caveats in the documentation: https://pandas.pydata.org/pandas-docs/stable/user_guide/indexing.html#returning-a-view-versus-a-copy\n",
      "  # Remove the CWD from sys.path while we load stuff.\n",
      "/opt/anaconda3/envs/base2/lib/python3.7/site-packages/ipykernel_launcher.py:13: SettingWithCopyWarning: \n",
      "A value is trying to be set on a copy of a slice from a DataFrame.\n",
      "Try using .loc[row_indexer,col_indexer] = value instead\n",
      "\n",
      "See the caveats in the documentation: https://pandas.pydata.org/pandas-docs/stable/user_guide/indexing.html#returning-a-view-versus-a-copy\n",
      "  del sys.path[0]\n",
      "/opt/anaconda3/envs/base2/lib/python3.7/site-packages/ipykernel_launcher.py:15: SettingWithCopyWarning: \n",
      "A value is trying to be set on a copy of a slice from a DataFrame.\n",
      "Try using .loc[row_indexer,col_indexer] = value instead\n",
      "\n",
      "See the caveats in the documentation: https://pandas.pydata.org/pandas-docs/stable/user_guide/indexing.html#returning-a-view-versus-a-copy\n",
      "  from ipykernel import kernelapp as app\n"
     ]
    }
   ],
   "source": [
    "df_mapping=df_mapping[df_mapping.CCI_code.str[4:6]!='TC']\n",
    "df_mapping=df_mapping.assign(NUTS3=df_mapping['NUTS_(2010)_code'].where(df_mapping['NUTS_(2010)_code'].str.len()>4))\n",
    "df_mapping=df_mapping.assign(NUTS2=df_mapping['NUTS_(2010)_code'].where(df_mapping['NUTS_(2010)_code'].str.len()==4))\n",
    "df_mapping['NUTS2'] = df_mapping['NUTS2'].fillna(df_mapping.NUTS3.str[:-1])\n",
    "df_mapping=df_mapping.assign(NUTS1=df_mapping['NUTS_(2010)_code'].where(df_mapping['NUTS_(2010)_code'].str.len()==3))\n",
    "df_mapping[df_mapping.Programme_Short_Title.str.contains('Mayotte')]['NUTS2']='FR94'\n",
    "df_mapping_EAFRD.loc[df_mapping_EAFRD.Programme_Short_Title.str.contains('Mayotte'),'NUTS_(2010)_code']='FR94'\n",
    "df_mapping.loc[df_mapping.CCI_code=='2014FR16M2OP012','NUTS_(2010)_code']='FR94'\n",
    "df_mapping.loc[(df_mapping.CCI_code=='2014FR05M9OP001')&(df_mapping['NUTS_(2010)_code']=='FRZZ')]='FR9'\n",
    "df_mapping[(df_mapping.NUTS2=='UKZZ')&(df_mapping.Programme_Short_Title.str.contains('Wales'))]['NUTS2']='UKL1'\n",
    "mapping_wealth = dict(df_wealth[['NUTS2', 'Category of region']].values)\n",
    "df_mapping['Category of region'] = df_mapping['NUTS2'].map(mapping_wealth).fillna('void')\n",
    "df_mapping[df_mapping['NUTS2']=='FI1C']['Category of region']='More developed'\n",
    "df_mapping[(df_mapping.NUTS2=='UKZZ')&(df_mapping.Programme_Short_Title.str.contains('Gibraltar'))]['Category of region']=\\\n",
    "'More developed'\n",
    "df_mapping.loc[df_mapping['NUTS_(2010)_code'].str.contains('FR9'),'Category of region']=\\\n",
    "'Outermost or Northern Sparsely Populated'"
   ]
  },
  {
   "cell_type": "markdown",
   "metadata": {},
   "source": [
    "### Preparation of the EC payment datasets for the regionalisation\n",
    "\n",
    "The dataframe is initially sliced so as to include only the relevant columns. The _Interregio_ programme is then dropped along potential sources of double counting (i.e. _IPAE-contribution from ERDF_ and _YEI Specific Allocation_). Annual figures are obtained from the cumulative ones through row-wise subtractions."
   ]
  },
  {
   "cell_type": "code",
   "execution_count": 11,
   "metadata": {},
   "outputs": [],
   "source": [
    "df_annual_r = df_annual.loc[:,['MS','CCI','Category of region','Year','Fund','Net interim payments']].copy()\n",
    "\n",
    "df_annual_r.loc[df_annual_r['Category of region']=='Transition','Category of region']='Transitional'\n",
    "\n",
    "# df_annual_r = df_annual_r[(df_annual_r.Year!=2023)&\n",
    "#                           (df_annual_r.Fund!='IPAE-contribution from ERDF')&\n",
    "#                          (df_annual_r.Fund!='YEI ESF Matching Component')&\n",
    "#                           (df_annual_r.Fund!='YEI Specific Allocation')&\n",
    "#                          (df_annual_r.MS!='TC')]\n",
    "\n",
    "df_annual_r = df_annual_r[(df_annual_r.Year!=2023)&\n",
    "                          (df_annual_r.Fund!='IPAE-contribution from ERDF')&\n",
    "                         (df_annual_r.Fund!='YEI ESF Matching Component')&\n",
    "                          (df_annual_r.Fund!='YEI Specific Allocation')&\n",
    "                         (df_annual_r.MS!='TC')]\n",
    "\n",
    "df_annual_r = df_annual_r.sort_values(by=['CCI','Fund','Category of region','Year']).reset_index(drop=True)\n",
    "\n",
    "df_annual_r['Category of region']=df_annual_r['Category of region'].fillna('void')\n",
    "\n",
    "df_annual_r['Net yearly interim payments'] = df_annual_r.groupby(['MS','CCI','Category of region','Fund',\n",
    "                                                                  'Year'])['Net interim payments'].transform('sum')\n",
    "\n",
    "df_annual_r = df_annual_r.drop_duplicates(subset=['MS','CCI','Category of region','Fund','Year'])\n",
    "\n",
    "# df_annual_r['Payments']=df_annual_r.groupby(['CCI','Fund',\n",
    "#                             'Category of region'])['Net yearly interim payments'].diff().fillna(df_annual_r['Net yearly interim payments'])"
   ]
  },
  {
   "cell_type": "markdown",
   "metadata": {},
   "source": [
    "Ad hoc mapping is defined for the agri funds."
   ]
  },
  {
   "cell_type": "code",
   "execution_count": 12,
   "metadata": {},
   "outputs": [],
   "source": [
    "df_mapping_EAFRD=df_mapping_EAFRD.assign(NUTS2=df_mapping_EAFRD['NUTS_(2010)_code'].where(df_mapping_EAFRD['NUTS_(2010)_code'].str.len()==4))\n",
    "df_mapping_EAFRD['Category of region'] = df_mapping_EAFRD['NUTS2'].map(mapping_wealth).fillna('void')\n",
    "lookup_dict_EAFRD = df_mapping_EAFRD.groupby(['CCI_code'])['NUTS_(2010)_code'].apply(list).to_dict()"
   ]
  },
  {
   "cell_type": "markdown",
   "metadata": {},
   "source": [
    "### Mapping of the NUTS codes from the look-up table onto the payment dataset\n",
    "\n",
    "The _NUTS_ code reported for each _CCI_ payment code is mapped onto the payments dataset only for those payments that have an unambiguous correspondence between the _CCI_ code and the _NUTS_ code. These are eventually mapped onto _NUTS3_ and _NUTS2_ categories by using the number of characters in the NUTS code provided."
   ]
  },
  {
   "cell_type": "code",
   "execution_count": 13,
   "metadata": {},
   "outputs": [
    {
     "name": "stderr",
     "output_type": "stream",
     "text": [
      "/opt/anaconda3/envs/base2/lib/python3.7/site-packages/ipykernel_launcher.py:8: FutureWarning: The pandas.np module is deprecated and will be removed from pandas in a future version. Import numpy directly instead\n",
      "  \n",
      "/opt/anaconda3/envs/base2/lib/python3.7/site-packages/ipykernel_launcher.py:8: SettingWithCopyWarning: \n",
      "A value is trying to be set on a copy of a slice from a DataFrame.\n",
      "Try using .loc[row_indexer,col_indexer] = value instead\n",
      "\n",
      "See the caveats in the documentation: https://pandas.pydata.org/pandas-docs/stable/user_guide/indexing.html#returning-a-view-versus-a-copy\n",
      "  \n",
      "/opt/anaconda3/envs/base2/lib/python3.7/site-packages/ipykernel_launcher.py:9: SettingWithCopyWarning: \n",
      "A value is trying to be set on a copy of a slice from a DataFrame.\n",
      "Try using .loc[row_indexer,col_indexer] = value instead\n",
      "\n",
      "See the caveats in the documentation: https://pandas.pydata.org/pandas-docs/stable/user_guide/indexing.html#returning-a-view-versus-a-copy\n",
      "  if __name__ == \"__main__\":\n"
     ]
    }
   ],
   "source": [
    "lookup_dict = df_mapping.groupby(['CCI_code','Category of region'])['NUTS_(2010)_code'].apply(list).to_dict()\n",
    "ld = {k: list(set(v))[0] for k, v in lookup_dict.items() if len(set(v)) == 1}\n",
    "ld_EAFRD={k: list(set(v))[0] for k, v in lookup_dict_EAFRD.items() if len(set(v)) == 1}\n",
    "\n",
    "df_annual_r2=df_annual_r[df_annual_r.Fund!='EAFRD']\n",
    "df_annual_r3=df_annual_r[df_annual_r.Fund=='EAFRD']\n",
    "\n",
    "df_annual_r2['NUTS_code'] = df_annual_r2.set_index(['CCI','Category of region']).index.map(ld.get).fillna(value=pd.np.nan)\n",
    "df_annual_r3['NUTS_code']=df_annual_r3['CCI'].map(ld_EAFRD)\n",
    "df_annual_r = pd.concat([df_annual_r2,df_annual_r3])"
   ]
  },
  {
   "cell_type": "code",
   "execution_count": 14,
   "metadata": {},
   "outputs": [],
   "source": [
    "df_annual_r=df_annual_r.assign(NUTS3=df_annual_r.NUTS_code.where(df_annual_r.NUTS_code.str.len()>4))\n",
    "df_annual_r=df_annual_r.assign(NUTS2=df_annual_r.NUTS_code.where(df_annual_r.NUTS_code.str.len()==4))\n",
    "\n",
    "df_annual_r['NUTS2'] = df_annual_r['NUTS2'].fillna(df_annual_r.NUTS3.str[:-1])\n",
    "df_annual_r=df_annual_r.assign(NUTS1=df_annual_r.NUTS_code.where(df_annual_r.NUTS_code.str.len()==3))"
   ]
  },
  {
   "cell_type": "markdown",
   "metadata": {},
   "source": [
    "#### The unique member-state Outmost and Nothern sparsed territories are acknowledged in the annualised database\n",
    "\n",
    "When a payment is remitted to this typology of areas and these is only within a country, one can easily attribute the corresponding NUTS2 code to these typology of regions. All with the aim to ease the following regionalisation of these payments."
   ]
  },
  {
   "cell_type": "code",
   "execution_count": 15,
   "metadata": {},
   "outputs": [],
   "source": [
    "df_annual_r.loc[(df_annual_r['Category of region']=='Outermost or Northern Sparsely Populated')&(df_annual_r.MS=='ES'),\n",
    "                'NUTS2']='ES70'\n",
    "\n",
    "df_annual_r.loc[(df_annual_r['Category of region']=='Outermost or Northern Sparsely Populated')&(df_annual_r.MS=='FI'),\n",
    "               'NUTS2']='FI1D'\n",
    "\n",
    "df_annual_r.loc[(df_annual_r.CCI=='2014PT16M2OP006')|(df_annual_r.CCI=='2014PT16M2OP004'),'Category of region']=\\\n",
    "'Outermost or Northern Sparsely Populated'\n",
    "\n",
    "df_annual_r.loc[(df_annual_r.CCI.isin(list(set(df_mapping[df_mapping['NUTS_(2010)_code'].str.contains('FR9')]['CCI_code']))))&\n",
    "               (df_annual_r['Category of region']=='Less developed'),'Category of region']='Outermost or Northern Sparsely Populated'"
   ]
  },
  {
   "cell_type": "markdown",
   "metadata": {},
   "source": [
    "#### One can then identify the payment share allocated at the NUTS2 level for each country and funding scheme\n",
    "\n",
    "**First bifurcation**: The payments having a _NUTS2_ attribute have been clearly remitted at this (or the sub-_NUTS3_) level. This implies these figures are already regionalised and no further accounting is required."
   ]
  },
  {
   "cell_type": "code",
   "execution_count": 16,
   "metadata": {},
   "outputs": [],
   "source": [
    "df_regionalised = df_annual_r[df_annual_r.NUTS2.notnull()]\n",
    "# df_regionalised_NUTS2 = df_regionalised[['MS','NUTS1','NUTS2','Year','Fund','Payments']].sort_values(by=['MS','NUTS1',\n",
    "#                                                                                                 'NUTS2','Year','Fund'])\n",
    "# df_regionalised_NUTS2=df_regionalised.groupby(['NUTS2','Year','Fund'])['Payments'].sum().reset_index()\n",
    "df_regionalised_NUTS2 = df_regionalised[['MS','NUTS1','NUTS2','Year','Fund','Net yearly interim payments']].sort_values(by=['MS','NUTS1',\n",
    "                                                                                                'NUTS2','Year','Fund'])\n",
    "df_regionalised_NUTS2=df_regionalised.groupby(['NUTS2','Year','Fund'])['Net yearly interim payments'].sum().reset_index()\n",
    "df_regionalised_NUTS2['MS']=df_regionalised_NUTS2['NUTS2'].str[:-2]\n",
    "df_regionalised_NUTS2['NUTS1']=df_regionalised_NUTS2['NUTS2'].str[:-1]\n",
    "col = df_regionalised_NUTS2.columns.tolist()\n",
    "col = col[-2:]+col[:-2]\n",
    "df_regionalised_NUTS2=df_regionalised_NUTS2[col]\n",
    "\n",
    "df_regionalised_NUTS2 = df_regionalised_NUTS2.rename(columns={'Net yearly interim payments':'Payments'})"
   ]
  },
  {
   "cell_type": "markdown",
   "metadata": {},
   "source": [
    "**Second bifurcation**: After having taken out the payments regionalised at the first bifurcation, one can tackle the payments remitted under the _EAFRD_, _EMFF_ and _FEAD_ funding schemes. These are solely reported at the member-state level. The _NUTS-2006_ code of Greece 'GR' is replaced with its 2010 (and afterwards) version 'EL' for consistency. These funds are then regionalised on a pro-rate base."
   ]
  },
  {
   "cell_type": "code",
   "execution_count": 17,
   "metadata": {},
   "outputs": [
    {
     "name": "stderr",
     "output_type": "stream",
     "text": [
      "/opt/anaconda3/envs/base2/lib/python3.7/site-packages/pandas/core/indexing.py:1817: SettingWithCopyWarning: \n",
      "A value is trying to be set on a copy of a slice from a DataFrame.\n",
      "Try using .loc[row_indexer,col_indexer] = value instead\n",
      "\n",
      "See the caveats in the documentation: https://pandas.pydata.org/pandas-docs/stable/user_guide/indexing.html#returning-a-view-versus-a-copy\n",
      "  self._setitem_single_column(loc, value, pi)\n"
     ]
    }
   ],
   "source": [
    "df_non_regionalised_national=df_annual_r[(~df_annual_r.NUTS2.notnull())&\n",
    "                                         (df_annual_r.Fund.isin(['EAFRD','EMFF','FEAD']))]\n",
    "df_non_regionalised_national.loc[df_non_regionalised_national.MS=='GR','MS']='EL'\n",
    "\n",
    "df_population_no_capital = df_population.loc[~df_population.NUTS2.isin(['AT13','BE10','CZ01','DE30','DE50','DE60',\n",
    "                                                                       'EL30','ES30','FR10','SE11','UKD3','UKD7',\n",
    "                                                                       'UKG3','UKI1','UKI2'])].copy()\n",
    "df_population_no_capital['Population_MS'] = df_population_no_capital.groupby(['MS','Year'])['Population'].transform(sum)\n",
    "df_population_no_capital['Population_NUTS1'] = df_population_no_capital.groupby(['NUTS1','Year'])['Population'].transform(sum)\n",
    "\n",
    "df_population_no_capital['MS_share']=df_population_no_capital['Population']/df_population_no_capital['Population_MS']\n",
    "df_population_no_capital['NUTS1_share']=df_population_no_capital['Population']/df_population_no_capital['Population_NUTS1']\n",
    "\n",
    "pmf_list = []\n",
    "\n",
    "for f in ['EAFRD','EMFF']:\n",
    "    pf = df_population_no_capital.copy()\n",
    "    pf['Fund']=f\n",
    "    pmf_list.append(pf)\n",
    "    \n",
    "for f in ['FEAD']:\n",
    "    pf = df_population.copy()\n",
    "    pf['Fund']=f\n",
    "    pmf_list.append(pf)\n",
    "    \n",
    "df_population_MS_funds=pd.concat(pmf_list)\n",
    "\n",
    "fund_population_dict = df_non_regionalised_national.groupby(['MS','Fund','Year'])['Net yearly interim payments'].apply(sum).to_dict()\n",
    "\n",
    "df_population_MS_funds['Payments_MS'] = df_population_MS_funds.set_index(['MS','Fund',\n",
    "                            'Year']).index.map(fund_population_dict.get)\n",
    "\n",
    "df_population_MS_funds['Payments']=df_population_MS_funds.Payments_MS*df_population_MS_funds.MS_share\n",
    "\n",
    "df_regionalised_other_funds=df_population_MS_funds[df_population_MS_funds.Payments>0][['MS','NUTS1','NUTS2','Year','Fund',\n",
    "                            'Payments']].sort_values(by=['MS','NUTS1','NUTS2','Year','Fund'])"
   ]
  },
  {
   "cell_type": "markdown",
   "metadata": {},
   "source": [
    "**Third bifurcation**: Now one can deal with the remaining figures, which may have been accounted for at a member-state level _NUTS0_, macro-region _NUTS1_ or regional level _NUTS2_, but with payments attributed to multiple regions for this latter. Another mapping category is the development area. Dependent upon the development category attributed to the payment (either _more developed, transitional, less developed_ or _void_) one can resort to this extra category for the regionalisation of the payments. Hence, one may break down the remainder of the database into six subsets (three level of geographical granularity plus the presence/absence of the economic-development criterion)."
   ]
  },
  {
   "cell_type": "code",
   "execution_count": 18,
   "metadata": {},
   "outputs": [
    {
     "name": "stderr",
     "output_type": "stream",
     "text": [
      "/opt/anaconda3/envs/base2/lib/python3.7/site-packages/pandas/core/indexing.py:1732: SettingWithCopyWarning: \n",
      "A value is trying to be set on a copy of a slice from a DataFrame\n",
      "\n",
      "See the caveats in the documentation: https://pandas.pydata.org/pandas-docs/stable/user_guide/indexing.html#returning-a-view-versus-a-copy\n",
      "  self._setitem_single_block(indexer, value, name)\n",
      "/opt/anaconda3/envs/base2/lib/python3.7/site-packages/pandas/core/indexing.py:723: SettingWithCopyWarning: \n",
      "A value is trying to be set on a copy of a slice from a DataFrame\n",
      "\n",
      "See the caveats in the documentation: https://pandas.pydata.org/pandas-docs/stable/user_guide/indexing.html#returning-a-view-versus-a-copy\n",
      "  iloc._setitem_with_indexer(indexer, value, self.name)\n"
     ]
    }
   ],
   "source": [
    "df_non_regionalised = df_annual_r[(~df_annual_r.NUTS2.notnull())&(~df_annual_r.Fund.isin(['EAFRD','EMFF','FEAD']))]\n",
    "\n",
    "df_non_regionalised_non_wealth = df_non_regionalised[df_non_regionalised['Category of region']=='void']\n",
    "df_non_regionalised_wealth = df_non_regionalised[~df_non_regionalised.index.isin(df_non_regionalised_non_wealth.index)]\n",
    "\n",
    "df_reverse_mapping=df_mapping[df_mapping.CCI_code.isin(list(set(df_non_regionalised.CCI)))]\n",
    "\n",
    "df_reverse_mapping.loc[df_reverse_mapping['NUTS2']=='ELZZ','NUTS2']=np.nan\n",
    "df_reverse_mapping.loc[df_reverse_mapping['NUTS1']=='ELZ','NUTS1']=np.nan\n",
    "df_reverse_mapping.loc[df_reverse_mapping['NUTS_(2010)_code'].str[:3]=='ELZ','NUTS_(2010)_code']='EL'"
   ]
  },
  {
   "cell_type": "markdown",
   "metadata": {},
   "source": [
    "One can isolate the _NUTS_ code of the payments having a _void_ economic-development category in the look-up table with a reverse mapping through the payment _CCI_ code. The complementary sub-table can be used for the mapping of the payments labelled with a non-void economic-development category."
   ]
  },
  {
   "cell_type": "code",
   "execution_count": 19,
   "metadata": {},
   "outputs": [],
   "source": [
    "rm_list = []\n",
    "for y in range(2015,2023):\n",
    "    drm = df_reverse_mapping.copy()\n",
    "    drm['Year']=y\n",
    "    rm_list.append(drm)\n",
    "drmy=pd.concat(rm_list)\n",
    "\n",
    "df_reverse_mapping_years = drmy.copy()\n",
    "\n",
    "mapping_no_wealth = df_non_regionalised_non_wealth.groupby(['MS','CCI','Category of region','Fund',\n",
    "                                                             'Year'])['Net yearly interim payments'].apply(list).to_dict()\n",
    "\n",
    "lnw = {k: v[0] for k, v in mapping_no_wealth.items()}\n",
    "\n",
    "df_reverse_mapping_years['Payments'] = df_reverse_mapping_years.set_index(['Country','CCI_code','Category of region',\n",
    "                                                                           'Fund-Sole','Year']).index.map(lnw.get)\n",
    "\n",
    "df_reverse_mapping_no_wealth = df_reverse_mapping_years[df_reverse_mapping_years.CCI_code.isin(df_non_regionalised_non_wealth.CCI)]\n",
    "\n",
    "drmw = df_reverse_mapping_years[~df_reverse_mapping_years.index.isin(df_reverse_mapping_no_wealth.index)]"
   ]
  },
  {
   "cell_type": "markdown",
   "metadata": {},
   "source": [
    "One can finally partition the payments database in the six possible combinations (MS, development category; NUTS1, development category; NUTS2, development category; MS, no development category; NUTS1, no development category; NUTS2, no development category) through the mapping from the sub look-up tables."
   ]
  },
  {
   "cell_type": "code",
   "execution_count": 20,
   "metadata": {},
   "outputs": [],
   "source": [
    "df_non_regionalised_wealth_NUTS2=\\\n",
    "df_non_regionalised_wealth[df_non_regionalised_wealth.CCI.isin(drmw[drmw['NUTS_(2010)_code'].str.len()>3]['CCI_code'])]\n",
    "\n",
    "df_non_regionalised_wealth_NUTS1=\\\n",
    "df_non_regionalised_wealth[(df_non_regionalised_wealth.CCI.isin(drmw[drmw['NUTS_(2010)_code'].str.len()==3]['CCI_code']))&\n",
    "                          ~df_non_regionalised_wealth.index.isin(df_non_regionalised_wealth_NUTS2.index)]\n",
    "\n",
    "df_non_regionalised_wealth_MS=\\\n",
    "df_non_regionalised_wealth[~df_non_regionalised_wealth.index.isin(df_non_regionalised_wealth_NUTS2.index)&\n",
    "                        ~df_non_regionalised_wealth.index.isin(df_non_regionalised_wealth_NUTS1.index)]\n",
    "df_non_regionalised_wealth_MS.loc[df_non_regionalised_wealth_MS.MS=='GR','MS']='EL'\n",
    "\n",
    "df_non_regionalised_no_wealth_NUTS2=\\\n",
    "df_non_regionalised_non_wealth[df_non_regionalised_non_wealth.CCI.isin(df_reverse_mapping_no_wealth[df_reverse_mapping_no_wealth['NUTS_(2010)_code'].str.len()>3]['CCI_code'])]\n",
    "\n",
    "df_non_regionalised_no_wealth_NUTS1=\\\n",
    "df_non_regionalised_non_wealth[(df_non_regionalised_non_wealth.CCI.isin(df_reverse_mapping_no_wealth[df_reverse_mapping_no_wealth['NUTS_(2010)_code'].str.len()==3]['CCI_code']))&\n",
    "                          ~df_non_regionalised_non_wealth.index.isin(df_non_regionalised_no_wealth_NUTS2.index)]\n",
    "\n",
    "df_non_regionalised_no_wealth_MS=\\\n",
    "df_non_regionalised_non_wealth[~df_non_regionalised_non_wealth.index.isin(df_non_regionalised_no_wealth_NUTS2.index)&\n",
    "                        ~df_non_regionalised_non_wealth.index.isin(df_non_regionalised_no_wealth_NUTS1.index)]\n",
    "df_non_regionalised_no_wealth_MS.loc[df_non_regionalised_no_wealth_MS.MS=='GR','MS']='EL'"
   ]
  },
  {
   "cell_type": "markdown",
   "metadata": {},
   "source": [
    "### Mapping the Payments at the NUTS levels through the sub look-up tables\n",
    "\n",
    "The following block of codes relate to the payments attributed at NUTS1 or multiple NUTS2 levels."
   ]
  },
  {
   "cell_type": "code",
   "execution_count": 21,
   "metadata": {},
   "outputs": [
    {
     "name": "stderr",
     "output_type": "stream",
     "text": [
      "/opt/anaconda3/envs/base2/lib/python3.7/site-packages/ipykernel_launcher.py:45: SettingWithCopyWarning: \n",
      "A value is trying to be set on a copy of a slice from a DataFrame.\n",
      "Try using .loc[row_indexer,col_indexer] = value instead\n",
      "\n",
      "See the caveats in the documentation: https://pandas.pydata.org/pandas-docs/stable/user_guide/indexing.html#returning-a-view-versus-a-copy\n",
      "/opt/anaconda3/envs/base2/lib/python3.7/site-packages/ipykernel_launcher.py:48: SettingWithCopyWarning: \n",
      "A value is trying to be set on a copy of a slice from a DataFrame.\n",
      "Try using .loc[row_indexer,col_indexer] = value instead\n",
      "\n",
      "See the caveats in the documentation: https://pandas.pydata.org/pandas-docs/stable/user_guide/indexing.html#returning-a-view-versus-a-copy\n"
     ]
    }
   ],
   "source": [
    "lrmwn = []\n",
    "\n",
    "lrmwn2 = []\n",
    "\n",
    "for c in list(set(df_non_regionalised_wealth_NUTS1['Category of region'])):\n",
    "    df_reverse_mapping_wealth = drmw[drmw['NUTS_(2010)_code'].str.len()==3].copy()\n",
    "    df_reverse_mapping_wealth2 = drmw[drmw['NUTS_(2010)_code'].str.len()>3].copy()\n",
    "    df_reverse_mapping_wealth['Category of region']=c\n",
    "    df_reverse_mapping_wealth2['Category of region']=c\n",
    "    lrmwn.append(df_reverse_mapping_wealth)\n",
    "    lrmwn2.append(df_reverse_mapping_wealth2)\n",
    "    \n",
    "df_reverse_mapping_wealth_NUTS1 = pd.concat(lrmwn)\n",
    "df_reverse_mapping_wealth_NUTS2 = pd.concat(lrmwn2)\n",
    "\n",
    "df_reverse_mapping_wealth_NUTS2['NUTS2'] = df_reverse_mapping_wealth_NUTS2['NUTS_(2010)_code'].str[:4].values\n",
    "df_reverse_mapping_wealth_NUTS1['NUTS1'] = df_reverse_mapping_wealth_NUTS1['NUTS_(2010)_code'].str[:3].values\n",
    "\n",
    "df_reverse_mapping_no_wealth_NUTS1 = df_reverse_mapping_no_wealth[df_reverse_mapping_no_wealth['NUTS_(2010)_code'].str.len()==3]\n",
    "df_reverse_mapping_no_wealth_NUTS2 = df_reverse_mapping_no_wealth[df_reverse_mapping_no_wealth['NUTS_(2010)_code'].str.len()>3]\n",
    "\n",
    "mapping_NUTS1_wealth = df_non_regionalised_wealth_NUTS1.groupby(['MS','CCI','Category of region','Fund',\n",
    "                                                            'Year'])['Net yearly interim payments'].apply(sum).to_dict()\n",
    "\n",
    "mapping_NUTS2_wealth = df_non_regionalised_wealth_NUTS2.groupby(['MS','CCI','Category of region','Fund',\n",
    "                                                            'Year'])['Net yearly interim payments'].apply(sum).to_dict()\n",
    "\n",
    "mapping_NUTS1_no_wealth = df_non_regionalised_no_wealth_NUTS1.groupby(['MS','CCI','Fund',\n",
    "                                                                       'Year'])['Net yearly interim payments'].apply(list).to_dict()\n",
    "\n",
    "mapping_NUTS2_no_wealth = df_non_regionalised_no_wealth_NUTS2.groupby(['MS','CCI','Fund',\n",
    "                                                                       'Year'])['Net yearly interim payments'].apply(list).to_dict()\n",
    "\n",
    "Nwn = {k: v[0] for k, v in mapping_NUTS1_no_wealth.items()}\n",
    "\n",
    "Nwn2 = {k: v[0] for k, v in mapping_NUTS2_no_wealth.items()}\n",
    "\n",
    "df_reverse_mapping_wealth_NUTS1['Payments_NUTS1']= df_reverse_mapping_wealth_NUTS1.set_index(['Country','CCI_code',\n",
    "                                            'Category of region','Fund-Sole','Year']).index.map(mapping_NUTS1_wealth.get)\n",
    "\n",
    "df_reverse_mapping_wealth_NUTS2['Payments_NUTS2']= df_reverse_mapping_wealth_NUTS2.set_index(['Country','CCI_code',\n",
    "                                            'Category of region','Fund-Sole','Year']).index.map(mapping_NUTS2_wealth.get)\n",
    "\n",
    "df_reverse_mapping_no_wealth_NUTS1['Payments_NUTS1']= df_reverse_mapping_no_wealth_NUTS1.set_index(['Country',\n",
    "                                                                'CCI_code','Fund-Sole','Year']).index.map(Nwn.get)\n",
    "\n",
    "df_reverse_mapping_no_wealth_NUTS2['Payments_NUTS2']= df_reverse_mapping_no_wealth_NUTS2.set_index(['Country',\n",
    "                                                                'CCI_code','Fund-Sole','Year']).index.map(Nwn2.get)\n",
    "\n",
    "df_reverse_mapping_wealth_NUTS1=df_reverse_mapping_wealth_NUTS1[df_reverse_mapping_wealth_NUTS1.Payments_NUTS1.notnull()]\n",
    "\n",
    "df_reverse_mapping_wealth_NUTS2=df_reverse_mapping_wealth_NUTS2[df_reverse_mapping_wealth_NUTS2.Payments_NUTS2.notnull()]\n",
    "\n",
    "df_reverse_mapping_no_wealth_NUTS1=df_reverse_mapping_no_wealth_NUTS1[df_reverse_mapping_no_wealth_NUTS1.Payments_NUTS1.notnull()]\n",
    "\n",
    "df_reverse_mapping_no_wealth_NUTS2=df_reverse_mapping_no_wealth_NUTS2[df_reverse_mapping_no_wealth_NUTS2.Payments_NUTS2.notnull()]"
   ]
  },
  {
   "cell_type": "markdown",
   "metadata": {},
   "source": [
    "#### Mapping population on the sub look-up tables\n",
    "\n",
    "After mapping each NUTS1/NUTS2 population onto the sub look-up tables, the figures that share the _CCI_ payment are aggregated. The payment is then attributed at this level on a pro-rata basis."
   ]
  },
  {
   "cell_type": "code",
   "execution_count": 22,
   "metadata": {},
   "outputs": [],
   "source": [
    "df_reverse_mapping_wealth_NUTS2.loc[df_reverse_mapping_wealth_NUTS2['NUTS_(2010)_code']=='Dec-00','NUTS2'] = 'DEC0'\n",
    "\n",
    "mapping_population_wealth_NUTS1 = df_population.groupby(['NUTS1','Category of region','Year'])['Population'].apply(sum).to_dict()\n",
    "\n",
    "mapping_population_wealth_NUTS2 = df_population.groupby(['NUTS2','Category of region','Year'])['Population'].apply(list).to_dict()\n",
    "\n",
    "mapping_population_no_wealth_NUTS1 = df_population.groupby(['NUTS1','Year'])['Population'].apply(sum).to_dict()\n",
    "\n",
    "mapping_population_no_wealth_NUTS2 = df_population.groupby(['NUTS2','Year'])['Population'].apply(list).to_dict()\n",
    "\n",
    "mpw = {k: v[0] for k, v in mapping_population_wealth_NUTS2.items()}\n",
    "\n",
    "mpnw = {k: v[0] for k, v in mapping_population_no_wealth_NUTS2.items()}\n",
    "\n",
    "df_reverse_mapping_wealth_NUTS1['Population']=df_reverse_mapping_wealth_NUTS1.set_index(['NUTS1',\n",
    "                                            'Category of region','Year']).index.map(mapping_population_wealth_NUTS1.get)\n",
    "\n",
    "df_reverse_mapping_wealth_NUTS2['Population']=df_reverse_mapping_wealth_NUTS2.set_index(['NUTS2',\n",
    "                                                'Category of region','Year']).index.map(mpw.get)\n",
    "\n",
    "df_reverse_mapping_wealth_NUTS2=df_reverse_mapping_wealth_NUTS2.drop_duplicates(subset=['Country','CCI_code',\n",
    "'Programme_Short_Title','programme_version','Fund-All','Fund-Sole','NUTS_title','NUTS2','Category of region','Year'])\n",
    "\n",
    "df_reverse_mapping_no_wealth_NUTS1['Population']=df_reverse_mapping_no_wealth_NUTS1.set_index(['NUTS1',\n",
    "                                            'Year']).index.map(mapping_population_no_wealth_NUTS1.get)\n",
    "\n",
    "df_reverse_mapping_no_wealth_NUTS2['Population']=df_reverse_mapping_no_wealth_NUTS2.set_index(['NUTS2',\n",
    "                                                'Year']).index.map(mpnw.get)\n",
    "\n",
    "df_reverse_mapping_wealth_NUTS1['Population_CCI']=df_reverse_mapping_wealth_NUTS1.groupby(['CCI_code',\n",
    "                                                    'Category of region','Fund-Sole','Year'])['Population'].transform(sum)\n",
    "\n",
    "df_reverse_mapping_wealth_NUTS2['Population_CCI']=df_reverse_mapping_wealth_NUTS2.groupby(['CCI_code',\n",
    "                                                    'Category of region','Fund-Sole','Year'])['Population'].transform(sum)\n",
    "\n",
    "df_reverse_mapping_no_wealth_NUTS1['Population_CCI']=df_reverse_mapping_no_wealth_NUTS1.groupby(['CCI_code',\n",
    "                                                    'Fund-Sole','Year'])['Population'].transform(sum)\n",
    "\n",
    "df_reverse_mapping_no_wealth_NUTS2['Population_CCI']=df_reverse_mapping_no_wealth_NUTS2.groupby(['CCI_code',\n",
    "                                                    'Fund-Sole','Year'])['Population'].transform(sum)\n",
    "\n",
    "df_reverse_mapping_wealth_NUTS1['Population_share']=df_reverse_mapping_wealth_NUTS1.Population/\\\n",
    "df_reverse_mapping_wealth_NUTS1.Population_CCI\n",
    "\n",
    "df_reverse_mapping_wealth_NUTS2['Population_share']=df_reverse_mapping_wealth_NUTS2.Population/\\\n",
    "df_reverse_mapping_wealth_NUTS2.Population_CCI\n",
    "\n",
    "df_reverse_mapping_no_wealth_NUTS1['Population_share']=df_reverse_mapping_no_wealth_NUTS1.Population/\\\n",
    "df_reverse_mapping_no_wealth_NUTS1.Population_CCI\n",
    "\n",
    "df_reverse_mapping_no_wealth_NUTS2['Population_share']=df_reverse_mapping_no_wealth_NUTS2.Population/\\\n",
    "df_reverse_mapping_no_wealth_NUTS2.Population_CCI\n",
    "\n",
    "df_reverse_mapping_wealth_NUTS2.loc[df_reverse_mapping_wealth_NUTS2.NUTS2=='UKZZ','Population_share']=1\n",
    "\n",
    "df_reverse_mapping_wealth_NUTS1['Payments']=df_reverse_mapping_wealth_NUTS1.Population_share*\\\n",
    "df_reverse_mapping_wealth_NUTS1.Payments_NUTS1\n",
    "\n",
    "df_reverse_mapping_wealth_NUTS2['Payments']=df_reverse_mapping_wealth_NUTS2.Population_share*\\\n",
    "df_reverse_mapping_wealth_NUTS2.Payments_NUTS2\n",
    "\n",
    "df_reverse_mapping_no_wealth_NUTS1['Payments']=df_reverse_mapping_no_wealth_NUTS1.Population_share*\\\n",
    "df_reverse_mapping_no_wealth_NUTS1.Payments_NUTS1\n",
    "\n",
    "df_reverse_mapping_no_wealth_NUTS2['Payments']=df_reverse_mapping_no_wealth_NUTS2.Population_share*\\\n",
    "df_reverse_mapping_no_wealth_NUTS2.Payments_NUTS2\n",
    "\n",
    "df_reverse_mapping_wealth_NUTS2['NUTS1']=df_reverse_mapping_wealth_NUTS2.NUTS2.str[:-1]\n",
    "df_reverse_mapping_wealth_NUTS2['MS']=df_reverse_mapping_wealth_NUTS2.NUTS2.str[:-2]\n",
    "\n",
    "df_reverse_mapping_wealth_NUTS2['MS'] = df_reverse_mapping_wealth_NUTS2['MS'].str.upper()\n",
    "\n",
    "df_reverse_mapping_no_wealth_NUTS2['NUTS1']=df_reverse_mapping_no_wealth_NUTS2.NUTS2.str[:-1]\n",
    "df_reverse_mapping_no_wealth_NUTS2['MS']=df_reverse_mapping_no_wealth_NUTS2.NUTS2.str[:-2]"
   ]
  },
  {
   "cell_type": "markdown",
   "metadata": {},
   "source": [
    "### Mapping the payments onto the NUTS2 area\n",
    "\n",
    "The following block of codes relates to the payments attributed at the MS, NUTS1 level. The former are simply attributed at the NUTS2 level on a pro-rata basis, while the latter follow the mapping implemented in the previous block of code. The payments share at the NUTS1 level are mapped onto the corresponding NUTS1 and eventually broken down at the NUTS2 level on a pro-rata basis."
   ]
  },
  {
   "cell_type": "code",
   "execution_count": 23,
   "metadata": {},
   "outputs": [
    {
     "name": "stderr",
     "output_type": "stream",
     "text": [
      "/opt/anaconda3/envs/base2/lib/python3.7/site-packages/ipykernel_launcher.py:44: SettingWithCopyWarning: \n",
      "A value is trying to be set on a copy of a slice from a DataFrame.\n",
      "Try using .loc[row_indexer,col_indexer] = value instead\n",
      "\n",
      "See the caveats in the documentation: https://pandas.pydata.org/pandas-docs/stable/user_guide/indexing.html#returning-a-view-versus-a-copy\n",
      "/opt/anaconda3/envs/base2/lib/python3.7/site-packages/ipykernel_launcher.py:47: SettingWithCopyWarning: \n",
      "A value is trying to be set on a copy of a slice from a DataFrame.\n",
      "Try using .loc[row_indexer,col_indexer] = value instead\n",
      "\n",
      "See the caveats in the documentation: https://pandas.pydata.org/pandas-docs/stable/user_guide/indexing.html#returning-a-view-versus-a-copy\n",
      "/opt/anaconda3/envs/base2/lib/python3.7/site-packages/ipykernel_launcher.py:50: SettingWithCopyWarning: \n",
      "A value is trying to be set on a copy of a slice from a DataFrame.\n",
      "Try using .loc[row_indexer,col_indexer] = value instead\n",
      "\n",
      "See the caveats in the documentation: https://pandas.pydata.org/pandas-docs/stable/user_guide/indexing.html#returning-a-view-versus-a-copy\n",
      "/opt/anaconda3/envs/base2/lib/python3.7/site-packages/ipykernel_launcher.py:53: SettingWithCopyWarning: \n",
      "A value is trying to be set on a copy of a slice from a DataFrame.\n",
      "Try using .loc[row_indexer,col_indexer] = value instead\n",
      "\n",
      "See the caveats in the documentation: https://pandas.pydata.org/pandas-docs/stable/user_guide/indexing.html#returning-a-view-versus-a-copy\n"
     ]
    }
   ],
   "source": [
    "pm = []\n",
    "for f in ['CF','ERDF','ESF','YEI']:\n",
    "    pf = df_population.copy()\n",
    "    pf['Fund']=f\n",
    "    pm.append(pf)\n",
    "dpnr=pd.concat(pm)\n",
    "\n",
    "df_non_regionalised_wealth_MS.loc[(df_non_regionalised_wealth_MS.MS=='FR')&\n",
    "(df_non_regionalised_wealth_MS['Category of region']=='Less developed'),'Category of region']='Outermost or Northern Sparsely Populated'\n",
    "\n",
    "df_population_no_regionalised = dpnr.copy()\n",
    "\n",
    "mapping_no_wealth_MS = df_non_regionalised_no_wealth_MS.groupby(['MS','Fund','Year'])['Net yearly interim payments'].apply(sum).to_dict()\n",
    "\n",
    "mapping_no_wealth_NUTS1 = df_reverse_mapping_no_wealth_NUTS1.groupby(['NUTS_(2010)_code','Fund-Sole',\n",
    "                                                                'Year'])['Payments'].apply(sum).to_dict()\n",
    "\n",
    "mapping_wealth_MS = df_non_regionalised_wealth_MS.groupby(['MS','Category of region','Fund',\n",
    "                                                           'Year'])['Net yearly interim payments'].apply(sum).to_dict()\n",
    "\n",
    "mapping_wealth_NUTS1 = df_reverse_mapping_wealth_NUTS1.groupby(['NUTS1','Category of region','Fund-Sole',\n",
    "                                                                        'Year'])['Payments'].apply(sum).to_dict()\n",
    "\n",
    "df_population_no_regionalised['Payments_MS']=df_population_no_regionalised.set_index(['MS','Fund',\n",
    "                                                                            'Year']).index.map(mapping_no_wealth_MS.get)\n",
    "\n",
    "df_population_no_regionalised['Payments_NUTS1']=df_population_no_regionalised.set_index(['NUTS1','Fund',\n",
    "                                                                            'Year']).index.map(mapping_no_wealth_NUTS1.get)\n",
    "\n",
    "df_population_no_regionalised['Payments_MS_wealth']=df_population_no_regionalised.set_index(['MS','Category of region','Fund',\n",
    "                                                                            'Year']).index.map(mapping_wealth_MS.get)\n",
    "\n",
    "df_population_no_regionalised['Payments_NUTS1_wealth']=df_population_no_regionalised.set_index(['NUTS1','Category of region','Fund',\n",
    "                                                                            'Year']).index.map(mapping_wealth_NUTS1.get)\n",
    "\n",
    "df_population_no_regionalised_MS = df_population_no_regionalised[df_population_no_regionalised.Payments_MS.notnull()]\n",
    "df_population_no_regionalised_NUTS1 = df_population_no_regionalised[df_population_no_regionalised.Payments_NUTS1.notnull()]\n",
    "\n",
    "df_population_no_regionalised_wealth_MS = df_population_no_regionalised[df_population_no_regionalised.Payments_MS_wealth.notnull()]\n",
    "                                                                           \n",
    "df_population_no_regionalised_wealth_NUTS1 = df_population_no_regionalised[df_population_no_regionalised.Payments_NUTS1_wealth.notnull()]\n",
    "\n",
    "df_population_no_regionalised_MS['Payments']=df_population_no_regionalised_MS.Payments_MS*\\\n",
    "df_population_no_regionalised_MS.MS_share\n",
    "\n",
    "df_population_no_regionalised_NUTS1['Payments']=df_population_no_regionalised_NUTS1.Payments_NUTS1*\\\n",
    "df_population_no_regionalised_NUTS1.NUTS1_share\n",
    "\n",
    "df_population_no_regionalised_wealth_MS['Payments']=df_population_no_regionalised_wealth_MS.Payments_MS_wealth*\\\n",
    "df_population_no_regionalised_wealth_MS.MS_share_category\n",
    "\n",
    "df_population_no_regionalised_wealth_NUTS1['Payments']=df_population_no_regionalised_wealth_NUTS1.Payments_NUTS1_wealth*\\\n",
    "df_population_no_regionalised_wealth_NUTS1.NUTS1_share_category\n",
    "\n",
    "df_regionalised_no_wealth_MS = df_population_no_regionalised_MS[['MS','NUTS1','NUTS2','Year','Fund',\n",
    "                                                            'Payments']].sort_values(by=['MS','NUTS1','NUTS2','Year','Fund'])\n",
    "\n",
    "df_regionalised_no_wealth_NUTS1 = df_population_no_regionalised_NUTS1[['MS','NUTS1','NUTS2','Year','Fund',\n",
    "                                                            'Payments']].sort_values(by=['MS','NUTS1','NUTS2','Year','Fund'])\n",
    "\n",
    "df_regionalised_wealth_MS = df_population_no_regionalised_wealth_MS[['MS','NUTS1','NUTS2','Year','Fund',\n",
    "                                                            'Payments']].sort_values(by=['MS','NUTS1','NUTS2','Year','Fund'])\n",
    "\n",
    "df_regionalised_wealth_NUTS1= df_population_no_regionalised_wealth_NUTS1[['MS','NUTS1','NUTS2','Year','Fund',\n",
    "                                                            'Payments']].sort_values(by=['MS','NUTS1','NUTS2','Year','Fund'])"
   ]
  },
  {
   "cell_type": "markdown",
   "metadata": {},
   "source": [
    "Payments broken down at the NUTS2 level do not require any mapping on population and hence can be used as such."
   ]
  },
  {
   "cell_type": "code",
   "execution_count": 24,
   "metadata": {},
   "outputs": [],
   "source": [
    "df_regionalised_wealth_NUTS2= df_reverse_mapping_wealth_NUTS2[['MS','NUTS1','NUTS2','Year','Fund-Sole',\n",
    "                                                            'Payments']].sort_values(by=['MS','NUTS1','NUTS2','Year','Fund-Sole'])\n",
    "df_regionalised_wealth_NUTS2 = df_regionalised_wealth_NUTS2.rename(columns={'Fund-Sole':'Fund'})\n",
    "\n",
    "df_regionalised_no_wealth_NUTS2= df_reverse_mapping_no_wealth_NUTS2[['MS','NUTS1','NUTS2','Year','Fund-Sole',\n",
    "                                                            'Payments']].sort_values(by=['MS','NUTS1','NUTS2','Year','Fund-Sole'])\n",
    "df_regionalised_no_wealth_NUTS2 = df_regionalised_no_wealth_NUTS2.rename(columns={'Fund-Sole':'Fund'})"
   ]
  },
  {
   "cell_type": "markdown",
   "metadata": {},
   "source": [
    "All the sub-datasets are eventually re-aggregated and formatting is made consistent."
   ]
  },
  {
   "cell_type": "code",
   "execution_count": 25,
   "metadata": {},
   "outputs": [],
   "source": [
    "df_regionalised_final = pd.concat([df_regionalised_NUTS2,df_regionalised_other_funds,df_regionalised_no_wealth_MS,\n",
    "                                  df_regionalised_no_wealth_NUTS1,df_regionalised_no_wealth_NUTS2,\n",
    "                                   df_regionalised_wealth_NUTS1,df_regionalised_wealth_NUTS2,df_regionalised_wealth_MS])\n",
    "\n",
    "df_regionalised_final['Payments'] = df_regionalised_final.groupby(['NUTS2','Fund','Year'])['Payments'].transform(sum)\n",
    "\n",
    "df_regionalised_final=df_regionalised_final.drop_duplicates(subset=['MS','NUTS1','NUTS2','Year','Fund']).sort_values(by=['MS',\n",
    "                                                                                            'NUTS1','NUTS2','Year','Fund'])\n",
    "\n",
    "df_regionalised_format = pd.pivot_table(df_regionalised_final,values='Payments',index=['MS','NUTS1','NUTS2',\n",
    "                                                                                    'Year'],columns='Fund').fillna(0)\n",
    "\n",
    "df_regionalised_format = df_regionalised_format.reset_index()\n",
    "df_regionalised_format['Programming Period']='2014-2020'\n",
    "cols = list(df_regionalised_format.columns)\n",
    "cols = [cols[-1]] + cols[:-1]\n",
    "df_regionalised_format = df_regionalised_format[cols]\n",
    "\n",
    "mapping = dict(df_wealth[['NUTS2','NUTS-2 Title']].values)\n",
    "df_regionalised_format['NUTS-2 Title']= df_regionalised_format['NUTS2'].map(mapping)\n",
    "df_regionalised_format=df_regionalised_format[['Programming Period','MS','NUTS1','NUTS2','NUTS-2 Title','Year','CF',\n",
    "                                              'EAFRD','EMFF','ERDF','ESF','FEAD','YEI']]\n",
    "\n",
    "df_regionalised_format.groupby('NUTS2').sum().iloc[:,-6:].to_excel(f\"{datetime.datetime.now():%Y-%m-%d}\"+'_2014-2020_regionalised_pivoted.xlsx')\n",
    "\n",
    "funds = ['CF','EAFRD', 'EMFF','ERDF','ESF','FEAD','YEI']\n",
    "\n",
    "df_regionalised_format_no_cumulative = df_regionalised_format.copy()\n",
    "\n",
    "for f in funds:\n",
    "    df_regionalised_format_no_cumulative[f] = df_regionalised_format.groupby(['Programming Period', \n",
    "                                                                'MS', \n",
    "                                                                'NUTS1', \n",
    "                                                                'NUTS2'])[f].diff().fillna(df_regionalised_format[f])\n",
    "\n",
    "df_regionalised_format_no_cumulative = df_regionalised_format_no_cumulative.fillna(0)\n",
    "df_regionalised_format_no_cumulative['NUTS-2 Title'] = df_regionalised_format['NUTS-2 Title']\n",
    "\n",
    "df_regionalised_format.to_excel(f\"{datetime.datetime.now():%Y-%m-%d}\"+'_2014-2020_regionalised.xlsx')\n",
    "df_regionalised_format_no_cumulative.to_excel(f\"{datetime.datetime.now():%Y-%m-%d}\"+'_2014-2020_regionalised_no_cumulative.xlsx')"
   ]
  },
  {
   "cell_type": "markdown",
   "metadata": {},
   "source": [
    "#### Pie plot of the contribution of each payment category"
   ]
  },
  {
   "cell_type": "code",
   "execution_count": 26,
   "metadata": {},
   "outputs": [],
   "source": [
    "pie = pd.DataFrame({'Types':['Unambiguously regionalised','NUTS0 other funding schemes','NUTS0 no development',\n",
    "                             'NUTS1 no development','NUTS2 no development','NUTS0 development','NUTS1 development',\n",
    "                             'NUTS2 development'], \n",
    "                    'Amount':[df_regionalised_NUTS2['Payments'].sum(),\n",
    "                              df_regionalised_other_funds['Payments'].sum(),\n",
    "                             df_regionalised_no_wealth_MS['Payments'].sum(),\n",
    "                              df_regionalised_no_wealth_NUTS1['Payments'].sum(),\n",
    "                             df_regionalised_no_wealth_NUTS2['Payments'].sum(),\n",
    "                              df_regionalised_wealth_MS['Payments'].sum(),\n",
    "                             df_regionalised_wealth_NUTS1['Payments'].sum(),\n",
    "                              df_regionalised_wealth_NUTS2['Payments'].sum()]})"
   ]
  },
  {
   "cell_type": "code",
   "execution_count": 27,
   "metadata": {},
   "outputs": [
    {
     "data": {
      "image/png": "[encoded data removed]",
      "text/plain": [
       "<Figure size 960x560 with 1 Axes>"
      ]
     },
     "metadata": {},
     "output_type": "display_data"
    }
   ],
   "source": [
    "fig1, ax1 = plt.subplots(figsize=(12, 7), subplot_kw=dict(aspect=\"equal\"), dpi= 80)\n",
    "\n",
    "explode = [0.1,0,0,0,0,0,0,0]\n",
    "ax1.pie(pie.Amount, explode=explode, labels=pie.Types, autopct='%1.1f%%',shadow=True, startangle=90)\n",
    "ax1.axis('equal')  # Equal aspect ratio ensures that pie is drawn as a circle.\n",
    "\n",
    "plt.show()"
   ]
  },
  {
   "cell_type": "markdown",
   "metadata": {},
   "source": [
    "### Closure of the payments - regionalisation"
   ]
  },
  {
   "cell_type": "code",
   "execution_count": 28,
   "metadata": {},
   "outputs": [],
   "source": [
    "df_annual_no2023 = df_annual.loc[(df_annual.Year!=2023)&(df_annual.MS!='TC')]"
   ]
  },
  {
   "cell_type": "code",
   "execution_count": 29,
   "metadata": {},
   "outputs": [],
   "source": [
    "funds = ['CF','EAFRD', 'EMFF','ERDF','ESF','FEAD','YEI']"
   ]
  },
  {
   "cell_type": "code",
   "execution_count": 30,
   "metadata": {},
   "outputs": [
    {
     "data": {
      "text/plain": [
       "Fund\n",
       "CF                            2.220446e-16\n",
       "EAFRD                         0.000000e+00\n",
       "EMFF                          0.000000e+00\n",
       "ERDF                          0.000000e+00\n",
       "ESF                           0.000000e+00\n",
       "FEAD                          0.000000e+00\n",
       "YEI                           1.110223e-16\n",
       "YEI ESF Matching Component             NaN\n",
       "YEI Specific Allocation                NaN\n",
       "dtype: float64"
      ]
     },
     "execution_count": 30,
     "metadata": {},
     "output_type": "execute_result"
    }
   ],
   "source": [
    "1- df_regionalised_format[funds].sum()/df_annual_no2023.groupby('Fund')['Net interim payments'].sum()"
   ]
  },
  {
   "cell_type": "code",
   "execution_count": null,
   "metadata": {},
   "outputs": [],
   "source": []
  }
 ],
 "metadata": {
  "kernelspec": {
   "display_name": "Python 3 (ipykernel)",
   "language": "python",
   "name": "python3"
  },
  "language_info": {
   "codemirror_mode": {
    "name": "ipython",
    "version": 3
   },
   "file_extension": ".py",
   "mimetype": "text/x-python",
   "name": "python",
   "nbconvert_exporter": "python",
   "pygments_lexer": "ipython3",
   "version": "3.7.15"
  }
 },
 "nbformat": 4,
 "nbformat_minor": 4
}
